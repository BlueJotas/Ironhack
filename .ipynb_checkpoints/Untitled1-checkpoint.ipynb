{
 "cells": [
  {
   "cell_type": "code",
   "execution_count": 24,
   "metadata": {},
   "outputs": [
    {
     "name": "stdout",
     "output_type": "stream",
     "text": [
      "Bob, go to the disco nearby\n"
     ]
    }
   ],
   "source": [
    "# write a simple program that prints wether bob can enter the disco\n",
    "# for any two values of the following variables:\n",
    "\n",
    "bobs_age = 17\n",
    "minimum_age_entry_disco = 21\n",
    "legal_age_for_light_disco = 16\n",
    "\n",
    "### YOUR CODE HERE ###\n",
    "\n",
    "if (bobs_age >= minimum_age_entry_disco):\n",
    "    print('You can enter the disco')\n",
    "elif bobs_age >= legal_age_for_light_disco:\n",
    "    print('Bob, go to the disco nearby')\n",
    "else:\n",
    "    print('Sorry Bob, go home') "
   ]
  },
  {
   "cell_type": "code",
   "execution_count": null,
   "metadata": {},
   "outputs": [],
   "source": [
    "# Write a program that iterates over list_of_names and breaks after printing just the name_to_print\n",
    "name_to_print = 'Jack'\n",
    "list_of_names = ['Alice', 'Bob', 'Jack', 'Mary', 'Manuel', 'Amanda', 'Ignacio', 'Fernando']\n",
    "\n",
    "for name in list_of_names:\n",
    "    print(name)\n",
    "    if name == name_to_print:\n",
    "        break\n"
   ]
  },
  {
   "cell_type": "code",
   "execution_count": 37,
   "metadata": {},
   "outputs": [
    {
     "name": "stdout",
     "output_type": "stream",
     "text": [
      "Alice\n",
      "Bob\n",
      "Jack\n",
      "Mary\n",
      "Manuel\n",
      "Amanda\n",
      "Ignacio\n",
      "Fernando\n"
     ]
    }
   ],
   "source": [
    "# Bonus: rewrite the program so that when name_to_print is not in the list you warn the user\n",
    "\n",
    "name_to_print = 'Johnny'\n",
    "list_of_names = ['Alice', 'Bob', 'Jack', 'Mary', 'Manuel', 'Amanda', 'Ignacio', 'Fernando']\n",
    "\n",
    "for name in list_of_names:\n",
    "    if name not in list_of_names:\n",
    "        print('That name is not in the list')\n",
    "    else:\n",
    "        print(name)\n",
    "        if name == name_to_print:\n",
    "            break"
   ]
  },
  {
   "cell_type": "code",
   "execution_count": 46,
   "metadata": {},
   "outputs": [
    {
     "name": "stdout",
     "output_type": "stream",
     "text": [
      "0 Alice\n",
      "1 Bob\n",
      "2 Jack\n",
      "3 Mary\n",
      "4 Manuel\n",
      "5 Amanda\n",
      "6 Ignacio\n",
      "7 Fernando\n"
     ]
    }
   ],
   "source": [
    "list_of_names =['Alice', 'Bob', 'Jack', 'Mary', 'Manuel', 'Amanda', 'Ignacio', 'Fernando']\n",
    "\n",
    "for name in list_of_names:\n",
    "    print(list_of_names.index(name), name)"
   ]
  },
  {
   "cell_type": "markdown",
   "metadata": {},
   "source": [
    "#LIST COMPREHENSION:"
   ]
  },
  {
   "cell_type": "code",
   "execution_count": 3,
   "metadata": {},
   "outputs": [
    {
     "name": "stdout",
     "output_type": "stream",
     "text": [
      "['PLAY', 'FILLING', 'BAR', 'THEATRE', 'EASYGOING', 'DATE', 'LEAD', 'THAT', 'STORY', 'ISLAND']\n"
     ]
    }
   ],
   "source": [
    "words = ['play', 'filling', 'bar', 'theatre', 'easygoing', 'date', 'lead', 'that', 'story',  'island']\n",
    "\n",
    "words_upp = []\n",
    "\n",
    "for w in words:\n",
    "    words_upp.append(w.upper())\n",
    "print(words_upp)"
   ]
  },
  {
   "cell_type": "code",
   "execution_count": 4,
   "metadata": {},
   "outputs": [
    {
     "data": {
      "text/plain": [
       "['PLAY',\n",
       " 'FILLING',\n",
       " 'BAR',\n",
       " 'THEATRE',\n",
       " 'EASYGOING',\n",
       " 'DATE',\n",
       " 'LEAD',\n",
       " 'THAT',\n",
       " 'STORY',\n",
       " 'ISLAND']"
      ]
     },
     "execution_count": 4,
     "metadata": {},
     "output_type": "execute_result"
    }
   ],
   "source": [
    "words_upp = [w.upper() for w in words]\n",
    "words_upp\n"
   ]
  },
  {
   "cell_type": "code",
   "execution_count": 6,
   "metadata": {},
   "outputs": [
    {
     "data": {
      "text/plain": [
       "[1, 4, 9, 16, 25, 36, 49, 64, 81, 100]"
      ]
     },
     "execution_count": 6,
     "metadata": {},
     "output_type": "execute_result"
    }
   ],
   "source": [
    "#append al numbers from range 1 to 10 squared.\n",
    "lst = [num ** 2 for num in range(1, 10+1)]\n",
    "lst"
   ]
  },
  {
   "cell_type": "code",
   "execution_count": 9,
   "metadata": {},
   "outputs": [
    {
     "data": {
      "text/plain": [
       "['filling', 'theatre', 'easygoing']"
      ]
     },
     "execution_count": 9,
     "metadata": {},
     "output_type": "execute_result"
    }
   ],
   "source": [
    "#append all words in list 'words' with a length superior to 6 characters.\n",
    "lst1 = [w for w in words if len(w) > 6]\n",
    "lst1"
   ]
  },
  {
   "cell_type": "code",
   "execution_count": 16,
   "metadata": {},
   "outputs": [],
   "source": [
    "y = [num for num in range(0, 101) if num % 5 == 0]\n",
    "y"
   ]
  },
  {
   "cell_type": "code",
   "execution_count": 17,
   "metadata": {},
   "outputs": [
    {
     "data": {
      "text/plain": [
       "'short'"
      ]
     },
     "execution_count": 17,
     "metadata": {},
     "output_type": "execute_result"
    }
   ],
   "source": [
    "#Variables with conditions.\n",
    "\n",
    "word = \"labs\"\n",
    "\n",
    "word_type = \"short\" if len(word) < 5 else \"long\"\n"
   ]
  }
 ],
 "metadata": {
  "kernelspec": {
   "display_name": "Python 3",
   "language": "python",
   "name": "python3"
  },
  "language_info": {
   "codemirror_mode": {
    "name": "ipython",
    "version": 3
   },
   "file_extension": ".py",
   "mimetype": "text/x-python",
   "name": "python",
   "nbconvert_exporter": "python",
   "pygments_lexer": "ipython3",
   "version": "3.8.5"
  }
 },
 "nbformat": 4,
 "nbformat_minor": 4
}
